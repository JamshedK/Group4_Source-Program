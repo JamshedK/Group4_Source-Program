{
 "cells": [
  {
   "cell_type": "code",
   "execution_count": 2,
   "id": "d1150f55",
   "metadata": {},
   "outputs": [],
   "source": [
    "import pandas as pd\n",
    "import numpy as np\n",
    "\n"
   ]
  },
  {
   "cell_type": "code",
   "execution_count": 6,
   "id": "25596620",
   "metadata": {},
   "outputs": [
    {
     "name": "stdout",
     "output_type": "stream",
     "text": [
      "Total training duration: 50.59 hours\n"
     ]
    }
   ],
   "source": [
    "total_seconds = 0.0\n",
    "\n",
    "# Open and read the training log\n",
    "with open('training.log', 'r') as f:\n",
    "    for line in f:\n",
    "        # Check if this line contains \"Duration:\"\n",
    "        if \"Duration:\" in line:\n",
    "            # Extract the number after \"Duration:\"\n",
    "            parts = line.strip().split(\"Duration:\")\n",
    "            if len(parts) > 1:\n",
    "                try:\n",
    "                    duration_sec = float(parts[1].strip())\n",
    "                    total_seconds += duration_sec\n",
    "                except ValueError:\n",
    "                    # Skip if it's not a valid number\n",
    "                    pass\n",
    "\n",
    "# Now, convert total seconds to hours\n",
    "total_hours = total_seconds / 3600\n",
    "\n",
    "print(f\"Total training duration: {total_hours:.2f} hours\")\n"
   ]
  },
  {
   "cell_type": "code",
   "execution_count": 8,
   "id": "24b2c0b2",
   "metadata": {},
   "outputs": [
    {
     "name": "stdout",
     "output_type": "stream",
     "text": [
      "Smallest Elapsed Time: 96000.11 ms (96.00 seconds)\n"
     ]
    }
   ],
   "source": [
    "# find the smallest elapsed time \n",
    "first_elapsed = None\n",
    "smallest_elapsed = float('inf')\n",
    "\n",
    "with open('training.log', 'r') as f:\n",
    "    for line in f:\n",
    "        if \"Elapsed Time\" in line:\n",
    "            parts = line.strip().split('=')\n",
    "            if len(parts) > 1:\n",
    "                try:\n",
    "                    elapsed_ms = float(parts[1].strip().split()[0])\n",
    "                    \n",
    "                    # Save the first Elapsed Time found\n",
    "                    if first_elapsed is None:\n",
    "                        first_elapsed = elapsed_ms\n",
    "                    \n",
    "                    # Update the smallest Elapsed Time\n",
    "                    if elapsed_ms < smallest_elapsed:\n",
    "                        smallest_elapsed = elapsed_ms\n",
    "                except ValueError:\n",
    "                    pass  # If parsing fails, skip\n",
    "\n",
    "# Print results\n",
    "print(f\"Smallest Elapsed Time: {smallest_elapsed:.2f} ms ({smallest_elapsed / 1000:.2f} seconds)\")\n"
   ]
  }
 ],
 "metadata": {
  "kernelspec": {
   "display_name": "venv",
   "language": "python",
   "name": "python3"
  },
  "language_info": {
   "codemirror_mode": {
    "name": "ipython",
    "version": 3
   },
   "file_extension": ".py",
   "mimetype": "text/x-python",
   "name": "python",
   "nbconvert_exporter": "python",
   "pygments_lexer": "ipython3",
   "version": "3.8.10"
  }
 },
 "nbformat": 4,
 "nbformat_minor": 5
}
